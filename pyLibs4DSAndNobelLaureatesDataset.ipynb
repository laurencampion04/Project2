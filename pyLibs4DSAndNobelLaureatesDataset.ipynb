{
 "cells": [
  {
   "cell_type": "markdown",
   "id": "91421d73-c42b-4ea7-adcc-2688ede7cd29",
   "metadata": {},
   "source": [
    "List the dataset in alphabetical order by country.  "
   ]
  },
  {
   "cell_type": "code",
   "execution_count": 1,
   "id": "a52040af",
   "metadata": {},
   "outputs": [
    {
     "name": "stdout",
     "output_type": "stream",
     "text": [
      "      year games_type   host_country    host_city  athletes  teams  \\\n",
      "376   2008     Summer          China      Beijing     10942    204   \n",
      "264   2012     Summer  Great Britain       London     10568    204   \n",
      "587   2000     Summer      Australia       Sydney     10651    199   \n",
      "945   1984     Summer  United States  Los Angeles      6829    140   \n",
      "792   1992     Summer          Spain    Barcelona      9356    169   \n",
      "...    ...        ...            ...          ...       ...    ...   \n",
      "769   1996     Summer  United States      Atlanta     10318    197   \n",
      "991   1984     Summer  United States  Los Angeles      6829    140   \n",
      "562   2004     Summer         Greece       Athens     10625    201   \n",
      "1044  1980     Summer           USSR       Moscow      5179     80   \n",
      "462   2008     Summer          China      Beijing     10942    204   \n",
      "\n",
      "      competitions      country  gold  silver  bronze  \n",
      "376            302  Afghanistan     0       0       1  \n",
      "264            302  Afghanistan     0       0       1  \n",
      "587            300      Algeria     1       1       3  \n",
      "945            221      Algeria     0       0       2  \n",
      "792            257      Algeria     1       0       1  \n",
      "...            ...          ...   ...     ...     ...  \n",
      "769            271       Zambia     0       1       0  \n",
      "991            221       Zambia     0       0       1  \n",
      "562            301     Zimbabwe     1       1       1  \n",
      "1044           203     Zimbabwe     1       0       0  \n",
      "462            302     Zimbabwe     1       3       0  \n",
      "\n",
      "[1781 rows x 11 columns]\n"
     ]
    }
   ],
   "source": [
    "import pandas as pd\n",
    "df = pd.read_csv('/workspaces/InClass/olympic_games.csv') \n",
    "sorted_df = df.sort_values(by='country')\n",
    "print(sorted_df) "
   ]
  },
  {
   "cell_type": "markdown",
   "id": "82f4e0ac-76be-45b7-aa03-2e43834aa761",
   "metadata": {},
   "source": [
    "What country got the most gold medals at the Mexico Olympics? "
   ]
  },
  {
   "cell_type": "code",
   "execution_count": 5,
   "id": "b5d7484d-df2b-444a-835a-eb985d43eeda",
   "metadata": {},
   "outputs": [
    {
     "name": "stdout",
     "output_type": "stream",
     "text": [
      "      year games_type       host_country    host_city  athletes  teams  \\\n",
      "988   1984     Summer      United States  Los Angeles      6829    140   \n",
      "1038  1980     Summer               USSR       Moscow      5179     80   \n",
      "1747  1904     Summer      United States    St. Louis       651     12   \n",
      "1745  1908     Summer      Great Britain       London      2008     22   \n",
      "923   1988     Summer  Republic of Korea        Seoul      8397    159   \n",
      "...    ...        ...                ...          ...       ...    ...   \n",
      "664   2000     Summer          Australia       Sydney     10651    199   \n",
      "659   2000     Summer          Australia       Sydney     10651    199   \n",
      "1293  1964     Winter            Austria    Innsbruck      1091     36   \n",
      "655   2000     Summer          Australia       Sydney     10651    199   \n",
      "1393  1956     Summer  Australia, Sweden    Melbourne      3314     72   \n",
      "\n",
      "      competitions                   country  gold  silver  bronze  \n",
      "988            221  United States of America    83      61      30  \n",
      "1038           203                      USSR    80      69      46  \n",
      "1747            95  United States of America    76      78      77  \n",
      "1745           110            United Kingdom    56      51      39  \n",
      "923            237                      USSR    55      31      46  \n",
      "...            ...                       ...   ...     ...     ...  \n",
      "664            300                   Uruguay     0       1       0  \n",
      "659            300       Trinidad and Tobago     0       1       1  \n",
      "1293            34                     Italy     0       1       3  \n",
      "655            300                 Sri Lanka     0       1       0  \n",
      "1393           151                   Uruguay     0       0       1  \n",
      "\n",
      "[1781 rows x 11 columns]\n"
     ]
    }
   ],
   "source": [
    "import pandas as pd\n",
    "df = pd.read_csv('/workspaces/InClass/olympic_games.csv') \n",
    "sorted_df = df.sort_values(by='gold', ascending=False)\n",
    "print(sorted_df) "
   ]
  },
  {
   "cell_type": "markdown",
   "id": "f4113b1d-3724-4b1a-8552-b14275afcf71",
   "metadata": {},
   "source": [
    "List the countries in alphabetical order by their name."
   ]
  },
  {
   "cell_type": "code",
   "execution_count": 20,
   "id": "20cd0717-7b6b-4245-8474-02a9bd947175",
   "metadata": {},
   "outputs": [
    {
     "name": "stdout",
     "output_type": "stream",
     "text": [
      "      year games_type   host_country    host_city  athletes  teams  \\\n",
      "376   2008     Summer          China      Beijing     10942    204   \n",
      "264   2012     Summer  Great Britain       London     10568    204   \n",
      "587   2000     Summer      Australia       Sydney     10651    199   \n",
      "945   1984     Summer  United States  Los Angeles      6829    140   \n",
      "792   1992     Summer          Spain    Barcelona      9356    169   \n",
      "...    ...        ...            ...          ...       ...    ...   \n",
      "769   1996     Summer  United States      Atlanta     10318    197   \n",
      "991   1984     Summer  United States  Los Angeles      6829    140   \n",
      "562   2004     Summer         Greece       Athens     10625    201   \n",
      "1044  1980     Summer           USSR       Moscow      5179     80   \n",
      "462   2008     Summer          China      Beijing     10942    204   \n",
      "\n",
      "      competitions      country  gold  silver  bronze  \n",
      "376            302  Afghanistan     0       0       1  \n",
      "264            302  Afghanistan     0       0       1  \n",
      "587            300      Algeria     1       1       3  \n",
      "945            221      Algeria     0       0       2  \n",
      "792            257      Algeria     1       0       1  \n",
      "...            ...          ...   ...     ...     ...  \n",
      "769            271       Zambia     0       1       0  \n",
      "991            221       Zambia     0       0       1  \n",
      "562            301     Zimbabwe     1       1       1  \n",
      "1044           203     Zimbabwe     1       0       0  \n",
      "462            302     Zimbabwe     1       3       0  \n",
      "\n",
      "[1781 rows x 11 columns]\n"
     ]
    }
   ],
   "source": [
    "import pandas as pd\n",
    "df = pd.read_csv('/workspaces/InClass/olympic_games.csv') \n",
    "sorted_df = df.sort_values(by='country') \n",
    "print(sorted_df) "
   ]
  },
  {
   "cell_type": "markdown",
   "id": "d6b48b25-3f78-49e1-bc0b-4080ed82e587",
   "metadata": {},
   "source": [
    "What Olympic games had the most athletes at it? "
   ]
  },
  {
   "cell_type": "code",
   "execution_count": 6,
   "id": "085a20dc-b248-4376-a916-cd861df7b06a",
   "metadata": {},
   "outputs": [
    {
     "name": "stdout",
     "output_type": "stream",
     "text": [
      "Beijing       year games_type host_country host_city  athletes  teams  competitions  \\\n",
      "102   2020     Summer        Japan     Tokyo     11420    206           339   \n",
      "61    2020     Summer        Japan     Tokyo     11420    206           339   \n",
      "90    2020     Summer        Japan     Tokyo     11420    206           339   \n",
      "89    2020     Summer        Japan     Tokyo     11420    206           339   \n",
      "88    2020     Summer        Japan     Tokyo     11420    206           339   \n",
      "...    ...        ...          ...       ...       ...    ...           ...   \n",
      "1774  1896     Summer       Greece    Athens       241     14            43   \n",
      "1773  1896     Summer       Greece    Athens       241     14            43   \n",
      "1772  1896     Summer       Greece    Athens       241     14            43   \n",
      "1770  1896     Summer       Greece    Athens       241     14            43   \n",
      "1780  1896     Summer       Greece    Athens       241     14            43   \n",
      "\n",
      "                       country  gold  silver  bronze  \n",
      "102                 San Marino     0       1       2  \n",
      "61                       Ghana     0       0       1  \n",
      "90                     Nigeria     0       1       1  \n",
      "89                 New Zealand     7       6       7  \n",
      "88                 Netherlands    10      12      14  \n",
      "...                        ...   ...     ...     ...  \n",
      "1774                   Germany     7       5       2  \n",
      "1773                    France     5       4       2  \n",
      "1772                   Denmark     1       2       3  \n",
      "1770                 Australia     2       0       1  \n",
      "1780  United States of America    11       7       2  \n",
      "\n",
      "[1781 rows x 11 columns]\n"
     ]
    }
   ],
   "source": [
    "import pandas as pd\n",
    "df = pd.read_csv('/workspaces/InClass/olympic_games.csv') \n",
    "column = df.at[0,'host_city']\n",
    "sorted_df = df.sort_values(by='athletes', ascending=False)\n",
    "print(column, sorted_df) "
   ]
  },
  {
   "cell_type": "markdown",
   "id": "daf16140-4f28-48a8-8d21-432e0a2360ec",
   "metadata": {},
   "source": [
    "Top 3 countries who won the most gold medals at the Great Britain summer olympics. "
   ]
  },
  {
   "cell_type": "code",
   "execution_count": 19,
   "id": "e3c55ca4-c910-44c7-ab76-e06e513ce41c",
   "metadata": {},
   "outputs": [
    {
     "name": "stdout",
     "output_type": "stream",
     "text": [
      "      year games_type   host_country host_city  athletes  teams  competitions  \\\n",
      "264   2012     Summer  Great Britain    London     10568    204           302   \n",
      "329   2012     Summer  Great Britain    London     10568    204           302   \n",
      "1501  1948     Summer  Great Britain    London      4104     59           136   \n",
      "\n",
      "           country  gold  silver  bronze  \n",
      "264    Afghanistan     0       0       1  \n",
      "329   Saudi Arabia     0       0       1  \n",
      "1501    Yugoslavia     0       2       0  \n"
     ]
    }
   ],
   "source": [
    "import pandas as pd\n",
    "df = pd.read_csv('/workspaces/InClass/olympic_games.csv')\n",
    "country = df[df['host_country']=='Great Britain']\n",
    "sorted_country = country.sort_values(by='gold')\n",
    "three = sorted_country.head(3)\n",
    "print(three) "
   ]
  },
  {
   "cell_type": "markdown",
   "id": "47316b26-2be3-430f-bbc5-10c6b88b568e",
   "metadata": {},
   "source": [
    "A list of games where the amount of athletes is over 11000. "
   ]
  },
  {
   "cell_type": "code",
   "execution_count": 17,
   "id": "f88c7662-eeeb-4fe1-9d80-2b445cee5e9d",
   "metadata": {},
   "outputs": [
    {
     "name": "stdout",
     "output_type": "stream",
     "text": [
      "     year games_type host_country host_city  athletes  teams  competitions  \\\n",
      "29   2020     Summer        Japan     Tokyo     11420    206           339   \n",
      "30   2020     Summer        Japan     Tokyo     11420    206           339   \n",
      "31   2020     Summer        Japan     Tokyo     11420    206           339   \n",
      "32   2020     Summer        Japan     Tokyo     11420    206           339   \n",
      "33   2020     Summer        Japan     Tokyo     11420    206           339   \n",
      "..    ...        ...          ...       ...       ...    ...           ...   \n",
      "233  2016     Summer       Brazil       Rio     11238    207           306   \n",
      "234  2016     Summer       Brazil       Rio     11238    207           306   \n",
      "235  2016     Summer       Brazil       Rio     11238    207           306   \n",
      "236  2016     Summer       Brazil       Rio     11238    207           306   \n",
      "237  2016     Summer       Brazil       Rio     11238    207           306   \n",
      "\n",
      "                      country  gold  silver  bronze  \n",
      "29                  Argentina     0       1       2  \n",
      "30                    Armenia     0       2       2  \n",
      "31                  Australia    17       7      22  \n",
      "32                    Austria     1       1       5  \n",
      "33                 Azerbaijan     0       3       4  \n",
      "..                        ...   ...     ...     ...  \n",
      "233            United Kingdom    27      23      17  \n",
      "234  United States of America    46      37      38  \n",
      "235                Uzbekistan     4       2       7  \n",
      "236                 Venezuela     0       2       1  \n",
      "237                   Vietnam     1       1       0  \n",
      "\n",
      "[179 rows x 11 columns]\n"
     ]
    }
   ],
   "source": [
    "import pandas as pd\n",
    "df = pd.read_csv('/workspaces/InClass/olympic_games.csv')\n",
    "athletes= 11000\n",
    "data= df[df['athletes']>=athletes] \n",
    "print(data) "
   ]
  }
 ],
 "metadata": {
  "kernelspec": {
   "display_name": "Python 3 (ipykernel)",
   "language": "python",
   "name": "python3"
  },
  "language_info": {
   "codemirror_mode": {
    "name": "ipython",
    "version": 3
   },
   "file_extension": ".py",
   "mimetype": "text/x-python",
   "name": "python",
   "nbconvert_exporter": "python",
   "pygments_lexer": "ipython3",
   "version": "3.10.13"
  }
 },
 "nbformat": 4,
 "nbformat_minor": 5
}
