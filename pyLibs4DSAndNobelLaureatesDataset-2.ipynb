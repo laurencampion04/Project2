{
 "cells": [
  {
   "cell_type": "markdown",
   "id": "91421d73-c42b-4ea7-adcc-2688ede7cd29",
   "metadata": {},
   "source": [
    "# Project #2 - Data Analysis with Pandas\n",
    "Lauren Campion\n",
    "Olympic Games Dataset\n"
   ]
  },
  {
   "cell_type": "code",
   "execution_count": 2,
   "id": "001e2580-1bd4-4b1d-91de-9cbeb860464d",
   "metadata": {},
   "outputs": [
    {
     "ename": "FileNotFoundError",
     "evalue": "[Errno 2] No such file or directory: '/olympic_games.csv'",
     "output_type": "error",
     "traceback": [
      "\u001b[0;31m---------------------------------------------------------------------------\u001b[0m",
      "\u001b[0;31mFileNotFoundError\u001b[0m                         Traceback (most recent call last)",
      "Cell \u001b[0;32mIn[2], line 2\u001b[0m\n\u001b[1;32m      1\u001b[0m \u001b[38;5;28;01mimport\u001b[39;00m \u001b[38;5;21;01mpandas\u001b[39;00m \u001b[38;5;28;01mas\u001b[39;00m \u001b[38;5;21;01mpd\u001b[39;00m\n\u001b[0;32m----> 2\u001b[0m df \u001b[38;5;241m=\u001b[39m \u001b[43mpd\u001b[49m\u001b[38;5;241;43m.\u001b[39;49m\u001b[43mread_csv\u001b[49m\u001b[43m(\u001b[49m\u001b[38;5;124;43m'\u001b[39;49m\u001b[38;5;124;43m/olympic_games.csv\u001b[39;49m\u001b[38;5;124;43m'\u001b[39;49m\u001b[43m)\u001b[49m \n\u001b[1;32m      3\u001b[0m sorted_df \u001b[38;5;241m=\u001b[39m df\u001b[38;5;241m.\u001b[39msort_values(by\u001b[38;5;241m=\u001b[39m\u001b[38;5;124m'\u001b[39m\u001b[38;5;124mcountry\u001b[39m\u001b[38;5;124m'\u001b[39m)\n\u001b[1;32m      4\u001b[0m \u001b[38;5;28mprint\u001b[39m(sorted_df) \n",
      "File \u001b[0;32m~/.python/current/lib/python3.10/site-packages/pandas/util/_decorators.py:211\u001b[0m, in \u001b[0;36mdeprecate_kwarg.<locals>._deprecate_kwarg.<locals>.wrapper\u001b[0;34m(*args, **kwargs)\u001b[0m\n\u001b[1;32m    209\u001b[0m     \u001b[38;5;28;01melse\u001b[39;00m:\n\u001b[1;32m    210\u001b[0m         kwargs[new_arg_name] \u001b[38;5;241m=\u001b[39m new_arg_value\n\u001b[0;32m--> 211\u001b[0m \u001b[38;5;28;01mreturn\u001b[39;00m \u001b[43mfunc\u001b[49m\u001b[43m(\u001b[49m\u001b[38;5;241;43m*\u001b[39;49m\u001b[43margs\u001b[49m\u001b[43m,\u001b[49m\u001b[43m \u001b[49m\u001b[38;5;241;43m*\u001b[39;49m\u001b[38;5;241;43m*\u001b[39;49m\u001b[43mkwargs\u001b[49m\u001b[43m)\u001b[49m\n",
      "File \u001b[0;32m~/.python/current/lib/python3.10/site-packages/pandas/util/_decorators.py:331\u001b[0m, in \u001b[0;36mdeprecate_nonkeyword_arguments.<locals>.decorate.<locals>.wrapper\u001b[0;34m(*args, **kwargs)\u001b[0m\n\u001b[1;32m    325\u001b[0m \u001b[38;5;28;01mif\u001b[39;00m \u001b[38;5;28mlen\u001b[39m(args) \u001b[38;5;241m>\u001b[39m num_allow_args:\n\u001b[1;32m    326\u001b[0m     warnings\u001b[38;5;241m.\u001b[39mwarn(\n\u001b[1;32m    327\u001b[0m         msg\u001b[38;5;241m.\u001b[39mformat(arguments\u001b[38;5;241m=\u001b[39m_format_argument_list(allow_args)),\n\u001b[1;32m    328\u001b[0m         \u001b[38;5;167;01mFutureWarning\u001b[39;00m,\n\u001b[1;32m    329\u001b[0m         stacklevel\u001b[38;5;241m=\u001b[39mfind_stack_level(),\n\u001b[1;32m    330\u001b[0m     )\n\u001b[0;32m--> 331\u001b[0m \u001b[38;5;28;01mreturn\u001b[39;00m \u001b[43mfunc\u001b[49m\u001b[43m(\u001b[49m\u001b[38;5;241;43m*\u001b[39;49m\u001b[43margs\u001b[49m\u001b[43m,\u001b[49m\u001b[43m \u001b[49m\u001b[38;5;241;43m*\u001b[39;49m\u001b[38;5;241;43m*\u001b[39;49m\u001b[43mkwargs\u001b[49m\u001b[43m)\u001b[49m\n",
      "File \u001b[0;32m~/.python/current/lib/python3.10/site-packages/pandas/io/parsers/readers.py:950\u001b[0m, in \u001b[0;36mread_csv\u001b[0;34m(filepath_or_buffer, sep, delimiter, header, names, index_col, usecols, squeeze, prefix, mangle_dupe_cols, dtype, engine, converters, true_values, false_values, skipinitialspace, skiprows, skipfooter, nrows, na_values, keep_default_na, na_filter, verbose, skip_blank_lines, parse_dates, infer_datetime_format, keep_date_col, date_parser, dayfirst, cache_dates, iterator, chunksize, compression, thousands, decimal, lineterminator, quotechar, quoting, doublequote, escapechar, comment, encoding, encoding_errors, dialect, error_bad_lines, warn_bad_lines, on_bad_lines, delim_whitespace, low_memory, memory_map, float_precision, storage_options)\u001b[0m\n\u001b[1;32m    935\u001b[0m kwds_defaults \u001b[38;5;241m=\u001b[39m _refine_defaults_read(\n\u001b[1;32m    936\u001b[0m     dialect,\n\u001b[1;32m    937\u001b[0m     delimiter,\n\u001b[0;32m   (...)\u001b[0m\n\u001b[1;32m    946\u001b[0m     defaults\u001b[38;5;241m=\u001b[39m{\u001b[38;5;124m\"\u001b[39m\u001b[38;5;124mdelimiter\u001b[39m\u001b[38;5;124m\"\u001b[39m: \u001b[38;5;124m\"\u001b[39m\u001b[38;5;124m,\u001b[39m\u001b[38;5;124m\"\u001b[39m},\n\u001b[1;32m    947\u001b[0m )\n\u001b[1;32m    948\u001b[0m kwds\u001b[38;5;241m.\u001b[39mupdate(kwds_defaults)\n\u001b[0;32m--> 950\u001b[0m \u001b[38;5;28;01mreturn\u001b[39;00m \u001b[43m_read\u001b[49m\u001b[43m(\u001b[49m\u001b[43mfilepath_or_buffer\u001b[49m\u001b[43m,\u001b[49m\u001b[43m \u001b[49m\u001b[43mkwds\u001b[49m\u001b[43m)\u001b[49m\n",
      "File \u001b[0;32m~/.python/current/lib/python3.10/site-packages/pandas/io/parsers/readers.py:605\u001b[0m, in \u001b[0;36m_read\u001b[0;34m(filepath_or_buffer, kwds)\u001b[0m\n\u001b[1;32m    602\u001b[0m _validate_names(kwds\u001b[38;5;241m.\u001b[39mget(\u001b[38;5;124m\"\u001b[39m\u001b[38;5;124mnames\u001b[39m\u001b[38;5;124m\"\u001b[39m, \u001b[38;5;28;01mNone\u001b[39;00m))\n\u001b[1;32m    604\u001b[0m \u001b[38;5;66;03m# Create the parser.\u001b[39;00m\n\u001b[0;32m--> 605\u001b[0m parser \u001b[38;5;241m=\u001b[39m \u001b[43mTextFileReader\u001b[49m\u001b[43m(\u001b[49m\u001b[43mfilepath_or_buffer\u001b[49m\u001b[43m,\u001b[49m\u001b[43m \u001b[49m\u001b[38;5;241;43m*\u001b[39;49m\u001b[38;5;241;43m*\u001b[39;49m\u001b[43mkwds\u001b[49m\u001b[43m)\u001b[49m\n\u001b[1;32m    607\u001b[0m \u001b[38;5;28;01mif\u001b[39;00m chunksize \u001b[38;5;129;01mor\u001b[39;00m iterator:\n\u001b[1;32m    608\u001b[0m     \u001b[38;5;28;01mreturn\u001b[39;00m parser\n",
      "File \u001b[0;32m~/.python/current/lib/python3.10/site-packages/pandas/io/parsers/readers.py:1442\u001b[0m, in \u001b[0;36mTextFileReader.__init__\u001b[0;34m(self, f, engine, **kwds)\u001b[0m\n\u001b[1;32m   1439\u001b[0m     \u001b[38;5;28mself\u001b[39m\u001b[38;5;241m.\u001b[39moptions[\u001b[38;5;124m\"\u001b[39m\u001b[38;5;124mhas_index_names\u001b[39m\u001b[38;5;124m\"\u001b[39m] \u001b[38;5;241m=\u001b[39m kwds[\u001b[38;5;124m\"\u001b[39m\u001b[38;5;124mhas_index_names\u001b[39m\u001b[38;5;124m\"\u001b[39m]\n\u001b[1;32m   1441\u001b[0m \u001b[38;5;28mself\u001b[39m\u001b[38;5;241m.\u001b[39mhandles: IOHandles \u001b[38;5;241m|\u001b[39m \u001b[38;5;28;01mNone\u001b[39;00m \u001b[38;5;241m=\u001b[39m \u001b[38;5;28;01mNone\u001b[39;00m\n\u001b[0;32m-> 1442\u001b[0m \u001b[38;5;28mself\u001b[39m\u001b[38;5;241m.\u001b[39m_engine \u001b[38;5;241m=\u001b[39m \u001b[38;5;28;43mself\u001b[39;49m\u001b[38;5;241;43m.\u001b[39;49m\u001b[43m_make_engine\u001b[49m\u001b[43m(\u001b[49m\u001b[43mf\u001b[49m\u001b[43m,\u001b[49m\u001b[43m \u001b[49m\u001b[38;5;28;43mself\u001b[39;49m\u001b[38;5;241;43m.\u001b[39;49m\u001b[43mengine\u001b[49m\u001b[43m)\u001b[49m\n",
      "File \u001b[0;32m~/.python/current/lib/python3.10/site-packages/pandas/io/parsers/readers.py:1735\u001b[0m, in \u001b[0;36mTextFileReader._make_engine\u001b[0;34m(self, f, engine)\u001b[0m\n\u001b[1;32m   1733\u001b[0m     \u001b[38;5;28;01mif\u001b[39;00m \u001b[38;5;124m\"\u001b[39m\u001b[38;5;124mb\u001b[39m\u001b[38;5;124m\"\u001b[39m \u001b[38;5;129;01mnot\u001b[39;00m \u001b[38;5;129;01min\u001b[39;00m mode:\n\u001b[1;32m   1734\u001b[0m         mode \u001b[38;5;241m+\u001b[39m\u001b[38;5;241m=\u001b[39m \u001b[38;5;124m\"\u001b[39m\u001b[38;5;124mb\u001b[39m\u001b[38;5;124m\"\u001b[39m\n\u001b[0;32m-> 1735\u001b[0m \u001b[38;5;28mself\u001b[39m\u001b[38;5;241m.\u001b[39mhandles \u001b[38;5;241m=\u001b[39m \u001b[43mget_handle\u001b[49m\u001b[43m(\u001b[49m\n\u001b[1;32m   1736\u001b[0m \u001b[43m    \u001b[49m\u001b[43mf\u001b[49m\u001b[43m,\u001b[49m\n\u001b[1;32m   1737\u001b[0m \u001b[43m    \u001b[49m\u001b[43mmode\u001b[49m\u001b[43m,\u001b[49m\n\u001b[1;32m   1738\u001b[0m \u001b[43m    \u001b[49m\u001b[43mencoding\u001b[49m\u001b[38;5;241;43m=\u001b[39;49m\u001b[38;5;28;43mself\u001b[39;49m\u001b[38;5;241;43m.\u001b[39;49m\u001b[43moptions\u001b[49m\u001b[38;5;241;43m.\u001b[39;49m\u001b[43mget\u001b[49m\u001b[43m(\u001b[49m\u001b[38;5;124;43m\"\u001b[39;49m\u001b[38;5;124;43mencoding\u001b[39;49m\u001b[38;5;124;43m\"\u001b[39;49m\u001b[43m,\u001b[49m\u001b[43m \u001b[49m\u001b[38;5;28;43;01mNone\u001b[39;49;00m\u001b[43m)\u001b[49m\u001b[43m,\u001b[49m\n\u001b[1;32m   1739\u001b[0m \u001b[43m    \u001b[49m\u001b[43mcompression\u001b[49m\u001b[38;5;241;43m=\u001b[39;49m\u001b[38;5;28;43mself\u001b[39;49m\u001b[38;5;241;43m.\u001b[39;49m\u001b[43moptions\u001b[49m\u001b[38;5;241;43m.\u001b[39;49m\u001b[43mget\u001b[49m\u001b[43m(\u001b[49m\u001b[38;5;124;43m\"\u001b[39;49m\u001b[38;5;124;43mcompression\u001b[39;49m\u001b[38;5;124;43m\"\u001b[39;49m\u001b[43m,\u001b[49m\u001b[43m \u001b[49m\u001b[38;5;28;43;01mNone\u001b[39;49;00m\u001b[43m)\u001b[49m\u001b[43m,\u001b[49m\n\u001b[1;32m   1740\u001b[0m \u001b[43m    \u001b[49m\u001b[43mmemory_map\u001b[49m\u001b[38;5;241;43m=\u001b[39;49m\u001b[38;5;28;43mself\u001b[39;49m\u001b[38;5;241;43m.\u001b[39;49m\u001b[43moptions\u001b[49m\u001b[38;5;241;43m.\u001b[39;49m\u001b[43mget\u001b[49m\u001b[43m(\u001b[49m\u001b[38;5;124;43m\"\u001b[39;49m\u001b[38;5;124;43mmemory_map\u001b[39;49m\u001b[38;5;124;43m\"\u001b[39;49m\u001b[43m,\u001b[49m\u001b[43m \u001b[49m\u001b[38;5;28;43;01mFalse\u001b[39;49;00m\u001b[43m)\u001b[49m\u001b[43m,\u001b[49m\n\u001b[1;32m   1741\u001b[0m \u001b[43m    \u001b[49m\u001b[43mis_text\u001b[49m\u001b[38;5;241;43m=\u001b[39;49m\u001b[43mis_text\u001b[49m\u001b[43m,\u001b[49m\n\u001b[1;32m   1742\u001b[0m \u001b[43m    \u001b[49m\u001b[43merrors\u001b[49m\u001b[38;5;241;43m=\u001b[39;49m\u001b[38;5;28;43mself\u001b[39;49m\u001b[38;5;241;43m.\u001b[39;49m\u001b[43moptions\u001b[49m\u001b[38;5;241;43m.\u001b[39;49m\u001b[43mget\u001b[49m\u001b[43m(\u001b[49m\u001b[38;5;124;43m\"\u001b[39;49m\u001b[38;5;124;43mencoding_errors\u001b[39;49m\u001b[38;5;124;43m\"\u001b[39;49m\u001b[43m,\u001b[49m\u001b[43m \u001b[49m\u001b[38;5;124;43m\"\u001b[39;49m\u001b[38;5;124;43mstrict\u001b[39;49m\u001b[38;5;124;43m\"\u001b[39;49m\u001b[43m)\u001b[49m\u001b[43m,\u001b[49m\n\u001b[1;32m   1743\u001b[0m \u001b[43m    \u001b[49m\u001b[43mstorage_options\u001b[49m\u001b[38;5;241;43m=\u001b[39;49m\u001b[38;5;28;43mself\u001b[39;49m\u001b[38;5;241;43m.\u001b[39;49m\u001b[43moptions\u001b[49m\u001b[38;5;241;43m.\u001b[39;49m\u001b[43mget\u001b[49m\u001b[43m(\u001b[49m\u001b[38;5;124;43m\"\u001b[39;49m\u001b[38;5;124;43mstorage_options\u001b[39;49m\u001b[38;5;124;43m\"\u001b[39;49m\u001b[43m,\u001b[49m\u001b[43m \u001b[49m\u001b[38;5;28;43;01mNone\u001b[39;49;00m\u001b[43m)\u001b[49m\u001b[43m,\u001b[49m\n\u001b[1;32m   1744\u001b[0m \u001b[43m\u001b[49m\u001b[43m)\u001b[49m\n\u001b[1;32m   1745\u001b[0m \u001b[38;5;28;01massert\u001b[39;00m \u001b[38;5;28mself\u001b[39m\u001b[38;5;241m.\u001b[39mhandles \u001b[38;5;129;01mis\u001b[39;00m \u001b[38;5;129;01mnot\u001b[39;00m \u001b[38;5;28;01mNone\u001b[39;00m\n\u001b[1;32m   1746\u001b[0m f \u001b[38;5;241m=\u001b[39m \u001b[38;5;28mself\u001b[39m\u001b[38;5;241m.\u001b[39mhandles\u001b[38;5;241m.\u001b[39mhandle\n",
      "File \u001b[0;32m~/.python/current/lib/python3.10/site-packages/pandas/io/common.py:856\u001b[0m, in \u001b[0;36mget_handle\u001b[0;34m(path_or_buf, mode, encoding, compression, memory_map, is_text, errors, storage_options)\u001b[0m\n\u001b[1;32m    851\u001b[0m \u001b[38;5;28;01melif\u001b[39;00m \u001b[38;5;28misinstance\u001b[39m(handle, \u001b[38;5;28mstr\u001b[39m):\n\u001b[1;32m    852\u001b[0m     \u001b[38;5;66;03m# Check whether the filename is to be opened in binary mode.\u001b[39;00m\n\u001b[1;32m    853\u001b[0m     \u001b[38;5;66;03m# Binary mode does not support 'encoding' and 'newline'.\u001b[39;00m\n\u001b[1;32m    854\u001b[0m     \u001b[38;5;28;01mif\u001b[39;00m ioargs\u001b[38;5;241m.\u001b[39mencoding \u001b[38;5;129;01mand\u001b[39;00m \u001b[38;5;124m\"\u001b[39m\u001b[38;5;124mb\u001b[39m\u001b[38;5;124m\"\u001b[39m \u001b[38;5;129;01mnot\u001b[39;00m \u001b[38;5;129;01min\u001b[39;00m ioargs\u001b[38;5;241m.\u001b[39mmode:\n\u001b[1;32m    855\u001b[0m         \u001b[38;5;66;03m# Encoding\u001b[39;00m\n\u001b[0;32m--> 856\u001b[0m         handle \u001b[38;5;241m=\u001b[39m \u001b[38;5;28;43mopen\u001b[39;49m\u001b[43m(\u001b[49m\n\u001b[1;32m    857\u001b[0m \u001b[43m            \u001b[49m\u001b[43mhandle\u001b[49m\u001b[43m,\u001b[49m\n\u001b[1;32m    858\u001b[0m \u001b[43m            \u001b[49m\u001b[43mioargs\u001b[49m\u001b[38;5;241;43m.\u001b[39;49m\u001b[43mmode\u001b[49m\u001b[43m,\u001b[49m\n\u001b[1;32m    859\u001b[0m \u001b[43m            \u001b[49m\u001b[43mencoding\u001b[49m\u001b[38;5;241;43m=\u001b[39;49m\u001b[43mioargs\u001b[49m\u001b[38;5;241;43m.\u001b[39;49m\u001b[43mencoding\u001b[49m\u001b[43m,\u001b[49m\n\u001b[1;32m    860\u001b[0m \u001b[43m            \u001b[49m\u001b[43merrors\u001b[49m\u001b[38;5;241;43m=\u001b[39;49m\u001b[43merrors\u001b[49m\u001b[43m,\u001b[49m\n\u001b[1;32m    861\u001b[0m \u001b[43m            \u001b[49m\u001b[43mnewline\u001b[49m\u001b[38;5;241;43m=\u001b[39;49m\u001b[38;5;124;43m\"\u001b[39;49m\u001b[38;5;124;43m\"\u001b[39;49m\u001b[43m,\u001b[49m\n\u001b[1;32m    862\u001b[0m \u001b[43m        \u001b[49m\u001b[43m)\u001b[49m\n\u001b[1;32m    863\u001b[0m     \u001b[38;5;28;01melse\u001b[39;00m:\n\u001b[1;32m    864\u001b[0m         \u001b[38;5;66;03m# Binary mode\u001b[39;00m\n\u001b[1;32m    865\u001b[0m         handle \u001b[38;5;241m=\u001b[39m \u001b[38;5;28mopen\u001b[39m(handle, ioargs\u001b[38;5;241m.\u001b[39mmode)\n",
      "\u001b[0;31mFileNotFoundError\u001b[0m: [Errno 2] No such file or directory: '/olympic_games.csv'"
     ]
    }
   ],
   "source": [
    "import pandas as pd\n",
    "df = pd.read_csv('/olympic_games.csv') \n",
    "sorted_df = df.sort_values(by='country')\n",
    "print(sorted_df) \n"
   ]
  },
  {
   "cell_type": "markdown",
   "id": "82f4e0ac-76be-45b7-aa03-2e43834aa761",
   "metadata": {},
   "source": [
    "**numpy arrays** share many properties with Python lists"
   ]
  },
  {
   "cell_type": "code",
   "execution_count": null,
   "id": "b5d7484d-df2b-444a-835a-eb985d43eeda",
   "metadata": {},
   "outputs": [],
   "source": [
    "a = np.array([1, 3, 2])\n",
    "len(a)\n",
    "a.sort()\n",
    "a"
   ]
  },
  {
   "cell_type": "markdown",
   "id": "f4113b1d-3724-4b1a-8552-b14275afcf71",
   "metadata": {},
   "source": [
    "**arange** : In analogy with the list range() function, we can create array ranges in NumPy using np.arange()"
   ]
  },
  {
   "cell_type": "code",
   "execution_count": null,
   "id": "20cd0717-7b6b-4245-8474-02a9bd947175",
   "metadata": {},
   "outputs": [],
   "source": [
    "r = np.arange(17)\n",
    "r"
   ]
  },
  {
   "cell_type": "markdown",
   "id": "d7e8710f-4248-4468-8f88-ac042bf3f67a",
   "metadata": {},
   "source": [
    "Computations with numpy arrays are **much faster** than the corresponding operations with lists. Because NumPy itself is array-based, such computations **can also typically be expressed much more compactly**, without the need for loops or even comprehensions. In particular, NumPy arrays support vectorized operations, whereby we can (say) multiply every element in an array by a particular number all at once."
   ]
  },
  {
   "cell_type": "markdown",
   "id": "d6b48b25-3f78-49e1-bc0b-4080ed82e587",
   "metadata": {},
   "source": [
    "Import the numPy, Matplotlib and pandas libraries into the Python interpreter\n",
    "Then load the data set for the Nobel Laureates and show the summary stats for numeric fields"
   ]
  },
  {
   "cell_type": "code",
   "execution_count": null,
   "id": "085a20dc-b248-4376-a916-cd861df7b06a",
   "metadata": {},
   "outputs": [],
   "source": [
    "[3 * i for i in r]   # This is Python can be expressed more compactly as \n",
    "3 * a                # in numpy"
   ]
  },
  {
   "cell_type": "markdown",
   "id": "daf16140-4f28-48a8-8d21-432e0a2360ec",
   "metadata": {},
   "source": [
    "**timeit** - we can use the timeit library to compare execution speeds for normal\n",
    "Python and numpy structures. It Python let's do some heavy computation and time it:"
   ]
  },
  {
   "cell_type": "code",
   "execution_count": null,
   "id": "e3c55ca4-c910-44c7-ab76-e06e513ce41c",
   "metadata": {},
   "outputs": [],
   "source": [
    "%%timeit\n",
    "[i**2 for i in range(1000)]"
   ]
  },
  {
   "cell_type": "markdown",
   "id": "47316b26-2be3-430f-bbc5-10c6b88b568e",
   "metadata": {},
   "source": [
    "using numpy?  -- You should see a huge difference in speeds!"
   ]
  },
  {
   "cell_type": "code",
   "execution_count": null,
   "id": "f88c7662-eeeb-4fe1-9d80-2b445cee5e9d",
   "metadata": {},
   "outputs": [],
   "source": [
    "%%timeit\n",
    "np.arange(1000)**2"
   ]
  },
  {
   "cell_type": "markdown",
   "id": "7f66b275-356a-40a4-ac56-fb82f5577c08",
   "metadata": {},
   "source": [
    "Numpy also provides support for **multi-dimensional arrays**"
   ]
  },
  {
   "cell_type": "code",
   "execution_count": null,
   "id": "444d19ef-5b9d-41a8-b444-c930be369c99",
   "metadata": {},
   "outputs": [],
   "source": [
    "a = np.array([[1, 2, 3], [4, 5, 6]])\n",
    "a"
   ]
  },
  {
   "cell_type": "markdown",
   "id": "3d898e4a-5127-4a58-9e42-87c2cfef579c",
   "metadata": {},
   "source": [
    "# **Data Visualization with Matplotlib**\n",
    "Matplotlib is a powerful visualization tool for Python that can do an absurdly large number of awesome things.\n",
    "The exact mechanics of getting Matplotlib plots to display varies widely depending on the exact details of your setup. The most explicit way to show plots, which works on most systems from the REPL, is to use the show() method:\n"
   ]
  },
  {
   "cell_type": "code",
   "execution_count": null,
   "id": "9bbc95ca-85fc-4a22-adf1-06a1bc2fe520",
   "metadata": {},
   "outputs": [],
   "source": [
    "import numpy as np\n",
    "import matplotlib.pyplot as plt\n",
    "x = np.linspace(-2, 2, 100)\n",
    "fig, ax = plt.subplots(1, 1)\n",
    "ax.plot(x, x*x)\n",
    "plt.show()\n",
    "%matplotlib inline"
   ]
  },
  {
   "cell_type": "code",
   "execution_count": null,
   "id": "b6ec5efc-b6cb-49c3-9e2e-b784b8fe77af",
   "metadata": {
    "scrolled": true
   },
   "outputs": [],
   "source": [
    "import numpy as np\n",
    "import matplotlib.pyplot as plt\n",
    "import pandas as pd\n",
    "\n",
    "nobel = pd.read_csv(\"laureates.csv\")\n",
    "nobel.describe()"
   ]
  },
  {
   "cell_type": "code",
   "execution_count": null,
   "id": "95f691ad-92bb-4b22-a409-bd6581050c69",
   "metadata": {},
   "outputs": [],
   "source": [
    "nobel.head(10)"
   ]
  },
  {
   "cell_type": "code",
   "execution_count": null,
   "id": "c02ee242-fde4-4942-812b-72aa6cdb0e69",
   "metadata": {},
   "outputs": [],
   "source": [
    "nobel.info()"
   ]
  },
  {
   "cell_type": "markdown",
   "id": "cc97a4ed-533c-430f-8d95-7be001ffad80",
   "metadata": {},
   "source": [
    "Let’s use array square brackets and a boolean criterion on the \"surname\" column to find record for the Physics noble laureate Feynman "
   ]
  },
  {
   "cell_type": "code",
   "execution_count": null,
   "id": "c61641f7-2c81-4ec4-87b4-69ee1bb320de",
   "metadata": {},
   "outputs": [],
   "source": [
    "nobel[nobel[\"surname\"] == \"Feynman\"]"
   ]
  },
  {
   "cell_type": "code",
   "execution_count": null,
   "id": "6dcc1e51-6af5-4914-843c-f2c04746e483",
   "metadata": {},
   "outputs": [],
   "source": [
    "nobel[nobel[\"surname\"] == \"Feynman\"].year"
   ]
  },
  {
   "cell_type": "markdown",
   "id": "8c610b93-0638-4d35-bb3f-1803befe1778",
   "metadata": {},
   "source": [
    "By using the correct index (i.e., 86), we can confirm that the value in that case is True:"
   ]
  },
  {
   "cell_type": "code",
   "execution_count": null,
   "id": "691716a5-b67b-40bf-b691-5a681039ef46",
   "metadata": {},
   "outputs": [],
   "source": [
    "(nobel[\"surname\"] == \"Feynman\")[86]"
   ]
  },
  {
   "cell_type": "markdown",
   "id": "529bcaf6-2d23-41fa-bd4c-d39dfc8b2d5c",
   "metadata": {},
   "source": [
    "Another method for getting the year is by specifying the column along with the boolean criterion, which we might try like this (only the most relevant line of output is shown). This returns just the overall id (in this case, 86) and the column of interest."
   ]
  },
  {
   "cell_type": "code",
   "execution_count": null,
   "id": "6698e0bc-650a-40d4-ad9c-a609728f26ff",
   "metadata": {},
   "outputs": [],
   "source": [
    "nobel.loc[nobel[\"surname\"] == \"Feynman\", \"year\"]"
   ]
  },
  {
   "cell_type": "markdown",
   "id": "7f8020d3-b12d-4647-9d90-5b6ca241a3ba",
   "metadata": {},
   "source": [
    "Finding a record by substring."
   ]
  },
  {
   "cell_type": "code",
   "execution_count": null,
   "id": "80fc45a0-4bc7-43c7-98f0-0e67dc5ae201",
   "metadata": {},
   "outputs": [],
   "source": [
    "nobel.loc[nobel[\"firstname\"].str.contains(\"Kip\")]"
   ]
  },
  {
   "cell_type": "markdown",
   "id": "4754d97b-5e26-428d-990f-e0b7a35d031f",
   "metadata": {},
   "source": [
    "Let's do sring search on a surname that produces multiple values\n",
    ">> nobel.loc[nobel[\"surname\"].str.contains(\"Feynman\")]  # fails because of too many NaNs\n",
    ">> Below shows the culprits "
   ]
  },
  {
   "cell_type": "code",
   "execution_count": null,
   "id": "04f391e7-044e-40be-9c0f-f866aac5740a",
   "metadata": {},
   "outputs": [],
   "source": [
    "nobel.loc[nobel[\"surname\"].isnull()]"
   ]
  },
  {
   "cell_type": "markdown",
   "id": "b33b4231-fa31-48ac-9a72-e21601fd758d",
   "metadata": {},
   "source": [
    "Here's how to filter NaNs - using by passing the option na=False to contains():"
   ]
  },
  {
   "cell_type": "code",
   "execution_count": null,
   "id": "76a43647-3abe-4642-bb6b-e4f104cdb2cc",
   "metadata": {},
   "outputs": [],
   "source": [
    "nobel.loc[nobel[\"surname\"].str.contains(\"Feynman\", na=False)]"
   ]
  },
  {
   "cell_type": "markdown",
   "id": "ca174845-3bfe-4c33-b31c-e7b4abaf6718",
   "metadata": {},
   "source": [
    "Although there’s only one Nobel laureate named “Feynman”, there are famously several named “Curie”\n",
    "Let's see dind Curies in the laureates.csv dataset."
   ]
  },
  {
   "cell_type": "code",
   "execution_count": null,
   "id": "a472e758-1d81-44b2-8780-6833c4b84459",
   "metadata": {},
   "outputs": [],
   "source": [
    "curies = nobel.loc[nobel[\"surname\"].str.contains(\"Curie\", na=False)]\n",
    "curies"
   ]
  },
  {
   "cell_type": "markdown",
   "id": "bdfb1c91-ea41-427d-b69a-480ceaffac0c",
   "metadata": {},
   "source": [
    "With the result assigned to the variable curies we can get the first name and surname for each Curie laureate as follows:"
   ]
  },
  {
   "cell_type": "code",
   "execution_count": null,
   "id": "155371bf-46cb-4847-80e2-c3de3351d80a",
   "metadata": {},
   "outputs": [],
   "source": [
    "curies[[\"firstname\", \"surname\"]]"
   ]
  },
  {
   "cell_type": "markdown",
   "id": "5f48fa9a-fd62-4917-abd6-919e6c66f6f8",
   "metadata": {},
   "source": [
    "Marie Skłodowska-Curie is the only person to win a Nobel Prize for two different sciences. \n",
    "Let’s use pandas to see if there are any other multiple Nobel prize winners.\n",
    "We use groupby() to group the winners by name and then use the size() method to see how many there are:"
   ]
  },
  {
   "cell_type": "code",
   "execution_count": null,
   "id": "00e1f371-7c6a-4464-8c02-63e8c43a8c88",
   "metadata": {},
   "outputs": [],
   "source": [
    "nobel.groupby([\"firstname\", \"surname\"]).size()"
   ]
  },
  {
   "cell_type": "markdown",
   "id": "f6ee4637-47ec-4713-abf3-e8942fe8a006",
   "metadata": {},
   "source": [
    "Let's add sort_values() to find any multiple laureates:"
   ]
  },
  {
   "cell_type": "code",
   "execution_count": null,
   "id": "95b4aa3d-ceb4-4e31-8537-1c75af5885bd",
   "metadata": {},
   "outputs": [],
   "source": [
    "nobel.groupby([\"firstname\", \"surname\"]).size().sort_values()"
   ]
  },
  {
   "cell_type": "markdown",
   "id": "0b04d773-892c-4b31-9159-056ca8446733",
   "metadata": {},
   "source": [
    "Even better is to use ID and groupby"
   ]
  },
  {
   "cell_type": "code",
   "execution_count": null,
   "id": "37664b3a-a15b-4aab-a977-e36212abf6ee",
   "metadata": {},
   "outputs": [],
   "source": [
    "laureates = nobel.groupby([\"id\", \"firstname\", \"surname\"])\n",
    "sizes = laureates.size()\n",
    "sizes[sizes > 1]"
   ]
  },
  {
   "cell_type": "markdown",
   "id": "0a062676-aa34-4cef-902a-72d18dfec333",
   "metadata": {},
   "source": [
    "One of pandas’ greatest strengths is its ability to deal with times and time series, so let’s start by taking a look at selecting dates. One way we can do this is by searching for laureates by exact birthday as a string"
   ]
  },
  {
   "cell_type": "code",
   "execution_count": null,
   "id": "157a5a37-b91e-4876-855e-c4c7d3bf169b",
   "metadata": {},
   "outputs": [],
   "source": [
    "nobel.loc[nobel[\"born\"] == \"1879-03-14\"]"
   ]
  },
  {
   "cell_type": "markdown",
   "id": "863a2886-da13-4bc0-99ee-9137163fb99c",
   "metadata": {},
   "source": [
    "Einstein birthday March 14 or 3/14 is labeled as Pi Day in America -  the first three digits of π ≈ 3.14. Another popular Math constant is Tau = 2*π = 6.28 - which by calendar will be 6/28. Let's see if any laureates have this birthday"
   ]
  },
  {
   "cell_type": "code",
   "execution_count": null,
   "id": "0deb4869-ff15-48d5-9857-1b1ee0d8e2a4",
   "metadata": {},
   "outputs": [],
   "source": [
    "nobel.loc[nobel[\"born\"].str.contains(\"06-08\", na=False)]"
   ]
  },
  {
   "cell_type": "markdown",
   "id": "1b1d981c-789a-48a5-ade7-110b3cd31a11",
   "metadata": {},
   "source": [
    "We can narrow down by restricting the results to Nobel laureates in Physics using the & operator to perform a logical and as follows"
   ]
  },
  {
   "cell_type": "code",
   "execution_count": null,
   "id": "dadae575-e872-47de-9f8f-85d86ad5db94",
   "metadata": {},
   "outputs": [],
   "source": [
    "nobel.loc[(nobel[\"born\"].astype('string').str.contains(\"06-28\")) & (nobel[\"category\"] == \"physics\")]"
   ]
  },
  {
   "cell_type": "markdown",
   "id": "04397e77-fa83-4cb4-b4ae-54e6eeee2c79",
   "metadata": {},
   "source": [
    "Let’s take a look at the first record using iloc (“index location”) to find it by its index number, which is 79:"
   ]
  },
  {
   "cell_type": "code",
   "execution_count": null,
   "id": "70ae1a86-9781-450b-88a7-9e33f697ca89",
   "metadata": {},
   "outputs": [],
   "source": [
    "nobel.iloc[79]"
   ]
  },
  {
   "cell_type": "markdown",
   "id": "3830d272-c21c-4f8e-8338-9cd891591dc2",
   "metadata": {},
   "source": [
    "Speaking of birthdates, the lifespans of Nobel laureates have been the subject of some scientific research over the years. An interesting exercise is to compute the lifespan of each nobel laurettes using the year of birth and year of death\n",
    "We will do this by creating a new lifespan colunn in the dataframe and using NumPy's magic time delta\n",
    "nobel[\"lifespan\"] = (nobel[\"died\"] - nobel[\"born\"])/np.timedelta64(1, \"Y\")"
   ]
  },
  {
   "cell_type": "code",
   "execution_count": null,
   "id": "a7014710-5a07-43d0-b2b6-2b0ffca21238",
   "metadata": {},
   "outputs": [],
   "source": []
  }
 ],
 "metadata": {
  "kernelspec": {
   "display_name": "Python 3 (ipykernel)",
   "language": "python",
   "name": "python3"
  },
  "language_info": {
   "codemirror_mode": {
    "name": "ipython",
    "version": 3
   },
   "file_extension": ".py",
   "mimetype": "text/x-python",
   "name": "python",
   "nbconvert_exporter": "python",
   "pygments_lexer": "ipython3",
   "version": "3.10.13"
  }
 },
 "nbformat": 4,
 "nbformat_minor": 5
}
